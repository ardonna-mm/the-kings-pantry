{
  "cells": [
    {
      "cell_type": "markdown",
      "metadata": {
        "id": "view-in-github",
        "colab_type": "text"
      },
      "source": [
        "<a href=\"https://colab.research.google.com/github/aleighcar/the-kings-pantry/blob/main/Kings_Pantry_SQL_Workbook.ipynb\" target=\"_parent\"><img src=\"https://colab.research.google.com/assets/colab-badge.svg\" alt=\"Open In Colab\"/></a>"
      ]
    },
    {
      "cell_type": "markdown",
      "metadata": {
        "id": "OIsn_N41R4OP"
      },
      "source": [
        "# ✨ The King’s Pantry SQL Workbook\n",
        "**Author:** Ardonna Cardines (Mercury Musings)  \n",
        "**Dataset:** `the_kings_pantry` (ANSI SQL; runs on MySQL and SQL Server)\n",
        "\n",
        "> *Prologue — The Royal Ledger Awakens*  \n",
        "> In the storerooms beneath the castle, you find a ledger older than the throne itself.  \n",
        "\n",
        "> Columns inked in tidy hands; rows etched like trade routes across the realm.\n",
        "  \n",
        "> Today, we learn to read it — and more importantly, to ask it better questions.\n",
        "\n",
        "---\n",
        "\n",
        "## 🧱 Chapter I — Apprentices of the Realm\n",
        "*The apprentices gather in the candlelit hall, parchment scattered, quills poised. Each query is a new spell — a whisper in the ledger of the realm.*  \n",
        "\n",
        "**Focus:** SELECT, WHERE, ORDER BY, DISTINCT, LIMIT/FETCH, simple expressions.\n"
      ],
      "id": "OIsn_N41R4OP"
    },
    {
      "cell_type": "markdown",
      "metadata": {
        "id": "fFVyWwC6R4OQ"
      },
      "source": [
        "### Exercise 1 — Vendors of The North\n",
        "\n",
        "**Objective:** Filter rows with WHERE\n",
        "\n",
        "Retrieve all vendors located in **The North**. Show `vendor_name` and `region`."
      ],
      "id": "fFVyWwC6R4OQ"
    },
    {
      "cell_type": "code",
      "metadata": {
        "id": "TEE3N1toR4OR"
      },
      "execution_count": null,
      "outputs": [],
      "source": [
        "SELECT vendor_name, region\n",
        "FROM vendor\n",
        "WHERE region = 'The North';"
      ],
      "id": "TEE3N1toR4OR"
    },
    {
      "cell_type": "markdown",
      "metadata": {
        "id": "ghSsRtdmR4OR"
      },
      "source": [
        "### Exercise 2 — Private Label Brands (first five)\n",
        "\n",
        "**Objective:** Limit results and select specific columns\n",
        "\n",
        "List the first five private label brands with `brand_name` and `private_label_tier`."
      ],
      "id": "ghSsRtdmR4OR"
    },
    {
      "cell_type": "code",
      "metadata": {
        "id": "NKLDQ6nfR4OS"
      },
      "execution_count": null,
      "outputs": [],
      "source": [
        "SELECT brand_name, private_label_tier\n",
        "FROM brand\n",
        "WHERE brand_type = 'Private Label'\n",
        "ORDER BY brand_name\n",
        "FETCH FIRST 5 ROWS ONLY;"
      ],
      "id": "NKLDQ6nfR4OS"
    },
    {
      "cell_type": "markdown",
      "metadata": {
        "id": "sKJnHf8gR4OS"
      },
      "source": [
        "### Exercise 3 — Pantry Essentials Catalog\n",
        "\n",
        "**Objective:** Filter by category\n",
        "\n",
        "Show `product_name`, `item_taxonomy_1`, `item_taxonomy_2`, `base_price` for products in **Pantry Essentials**."
      ],
      "id": "sKJnHf8gR4OS"
    },
    {
      "cell_type": "code",
      "metadata": {
        "id": "0Wew9lKGR4OS"
      },
      "execution_count": null,
      "outputs": [],
      "source": [
        "SELECT product_name, item_taxonomy_1, item_taxonomy_2, base_price\n",
        "FROM product\n",
        "WHERE item_taxonomy_1 = 'Pantry Essentials'\n",
        "ORDER BY product_name;"
      ],
      "id": "0Wew9lKGR4OS"
    },
    {
      "cell_type": "markdown",
      "metadata": {
        "id": "5Kg0HQhmR4OT"
      },
      "source": [
        "### Exercise 4 — Highest Margin SKUs\n",
        "\n",
        "**Objective:** Sort descending by a numeric column\n",
        "\n",
        "Return top 10 products by `margin_percentage`."
      ],
      "id": "5Kg0HQhmR4OT"
    },
    {
      "cell_type": "code",
      "metadata": {
        "id": "j9X1cV25R4OT"
      },
      "execution_count": null,
      "outputs": [],
      "source": [
        "SELECT product_id, product_name, margin_percentage\n",
        "FROM product\n",
        "ORDER BY margin_percentage DESC\n",
        "FETCH FIRST 10 ROWS ONLY;"
      ],
      "id": "j9X1cV25R4OT"
    },
    {
      "cell_type": "markdown",
      "metadata": {
        "id": "8GDE4k1-R4OT"
      },
      "source": [
        "### Exercise 5 — Discontinued Products\n",
        "\n",
        "**Objective:** Boolean flag filters\n",
        "\n",
        "List `product_id`, `product_name` where `is_discontinued_flag = 1`."
      ],
      "id": "8GDE4k1-R4OT"
    },
    {
      "cell_type": "code",
      "metadata": {
        "id": "3K1CDrCdR4OT"
      },
      "execution_count": null,
      "outputs": [],
      "source": [
        "SELECT product_id, product_name\n",
        "FROM product\n",
        "WHERE is_discontinued_flag = 1\n",
        "ORDER BY product_id;"
      ],
      "id": "3K1CDrCdR4OT"
    },
    {
      "cell_type": "markdown",
      "metadata": {
        "id": "QDsXmkh7R4OU"
      },
      "source": [
        "### Exercise 6 — Active Vendor Count\n",
        "\n",
        "**Objective:** Aggregate count with simple filter\n",
        "\n",
        "Count how many vendors are currently active (`is_active_flag = 1`)."
      ],
      "id": "QDsXmkh7R4OU"
    },
    {
      "cell_type": "code",
      "metadata": {
        "id": "1cQQBhI6R4OU"
      },
      "execution_count": null,
      "outputs": [],
      "source": [
        "SELECT COUNT(*) AS active_vendor_count\n",
        "FROM vendor\n",
        "WHERE is_active_flag = 1;"
      ],
      "id": "1cQQBhI6R4OU"
    },
    {
      "cell_type": "markdown",
      "metadata": {
        "id": "Ja4UECnfR4OU"
      },
      "source": [
        "### Exercise 7 — Distinct Departments\n",
        "\n",
        "**Objective:** SELECT DISTINCT for categorical exploration\n",
        "\n",
        "Show distinct values of `item_taxonomy_1` from `product`."
      ],
      "id": "Ja4UECnfR4OU"
    },
    {
      "cell_type": "code",
      "metadata": {
        "id": "oJqUy19lR4OU"
      },
      "execution_count": null,
      "outputs": [],
      "source": [
        "SELECT DISTINCT item_taxonomy_1\n",
        "FROM product\n",
        "ORDER BY item_taxonomy_1;"
      ],
      "id": "oJqUy19lR4OU"
    },
    {
      "cell_type": "markdown",
      "metadata": {
        "id": "3uEIWVu5R4OU"
      },
      "source": [
        "### Exercise 8 — Customers in Dorne\n",
        "\n",
        "**Objective:** Basic filtering by realm\n",
        "\n",
        "Return `first_name`, `last_name`, `realm` for customers in **Dorne**."
      ],
      "id": "3uEIWVu5R4OU"
    },
    {
      "cell_type": "code",
      "metadata": {
        "id": "v9awDTRrR4OV"
      },
      "execution_count": null,
      "outputs": [],
      "source": [
        "SELECT first_name, last_name, realm\n",
        "FROM customer\n",
        "WHERE realm = 'Dorne'\n",
        "ORDER BY last_name, first_name;"
      ],
      "id": "v9awDTRrR4OV"
    },
    {
      "cell_type": "markdown",
      "metadata": {
        "id": "l5Sj7UTER4OV"
      },
      "source": [
        "### Exercise 9 — Price vs Cost\n",
        "\n",
        "**Objective:** Derived columns with arithmetic\n",
        "\n",
        "For each product, show `product_name`, `base_price`, `landed_cost`, and a column `price_minus_cost`."
      ],
      "id": "l5Sj7UTER4OV"
    },
    {
      "cell_type": "code",
      "metadata": {
        "id": "jAgPeItzR4OV"
      },
      "execution_count": null,
      "outputs": [],
      "source": [
        "SELECT product_name, base_price, landed_cost,\n",
        "       (base_price - landed_cost) AS price_minus_cost\n",
        "FROM product\n",
        "ORDER BY price_minus_cost DESC;"
      ],
      "id": "jAgPeItzR4OV"
    },
    {
      "cell_type": "markdown",
      "metadata": {
        "id": "PsU4B4lAR4OV"
      },
      "source": [
        "### Exercise 10 — Filter by Unit Size\n",
        "\n",
        "**Objective:** Text equality\n",
        "\n",
        "List all products sold in `16 oz` packaging."
      ],
      "id": "PsU4B4lAR4OV"
    },
    {
      "cell_type": "code",
      "metadata": {
        "id": "4D9SZq-SR4OW"
      },
      "execution_count": null,
      "outputs": [],
      "source": [
        "SELECT product_id, product_name, unit_size\n",
        "FROM product\n",
        "WHERE unit_size = '16 oz'\n",
        "ORDER BY product_id;"
      ],
      "id": "4D9SZq-SR4OW"
    },
    {
      "cell_type": "markdown",
      "metadata": {
        "id": "nF-W9IFoR4OZ"
      },
      "source": [
        "## ⚔️ Chapter II — Knights of the Query\n",
        "*Steel meets parchment. Patterns reveal themselves in the clatter of counts and sums.  \n",
        "Across guilds and houses, truths align under the weight of aggregation.*\n",
        "\n",
        "**Focus:** GROUP BY, JOINs, CASE expressions, HAVING, subqueries, conditional aggregation.\n"
      ],
      "id": "nF-W9IFoR4OZ"
    },
    {
      "cell_type": "markdown",
      "metadata": {
        "id": "3gnB8sACR4OZ"
      },
      "source": [
        "### Exercise 11 — Vendors by Region\n",
        "\n",
        "**Objective:** GROUP BY counts\n",
        "\n",
        "Count vendors by `region`."
      ],
      "id": "3gnB8sACR4OZ"
    },
    {
      "cell_type": "code",
      "metadata": {
        "id": "wPFR22jeR4OZ"
      },
      "execution_count": null,
      "outputs": [],
      "source": [
        "SELECT region, COUNT(*) AS vendor_count\n",
        "FROM vendor\n",
        "GROUP BY region\n",
        "ORDER BY vendor_count DESC;"
      ],
      "id": "wPFR22jeR4OZ"
    },
    {
      "cell_type": "markdown",
      "metadata": {
        "id": "FSVN3XFdR4Oa"
      },
      "source": [
        "### Exercise 12 — Average Margin by Brand\n",
        "\n",
        "**Objective:** GROUP BY averages\n",
        "\n",
        "Show average `margin_percentage` per `brand_name` for active products."
      ],
      "id": "FSVN3XFdR4Oa"
    },
    {
      "cell_type": "code",
      "metadata": {
        "id": "4rJ0vQEBR4Oa"
      },
      "execution_count": null,
      "outputs": [],
      "source": [
        "SELECT brand_name, AVG(margin_percentage) AS avg_margin_pct\n",
        "FROM product\n",
        "WHERE is_active_flag = 1\n",
        "GROUP BY brand_name\n",
        "ORDER BY avg_margin_pct DESC;"
      ],
      "id": "4rJ0vQEBR4Oa"
    },
    {
      "cell_type": "markdown",
      "metadata": {
        "id": "XzS6vrd-R4Oa"
      },
      "source": [
        "### Exercise 13 — Products with Vendor Names\n",
        "\n",
        "**Objective:** JOIN product to vendor\n",
        "\n",
        "List `product_name` with its `vendor_name` (only vendor-sourced SKUs)."
      ],
      "id": "XzS6vrd-R4Oa"
    },
    {
      "cell_type": "code",
      "metadata": {
        "id": "Rakj5D93R4Oa"
      },
      "execution_count": null,
      "outputs": [],
      "source": [
        "SELECT p.product_name, v.vendor_name\n",
        "FROM product p\n",
        "JOIN vendor v\n",
        "  ON p.vendor_id = v.vendor_id\n",
        "ORDER BY v.vendor_name, p.product_name;"
      ],
      "id": "Rakj5D93R4Oa"
    },
    {
      "cell_type": "markdown",
      "metadata": {
        "id": "cnVkGshQR4Ob"
      },
      "source": [
        "### Exercise 14 — Most Expensive SKU per Brand\n",
        "\n",
        "**Objective:** MAX per group\n",
        "\n",
        "Show `brand_name` and its maximum `base_price`."
      ],
      "id": "cnVkGshQR4Ob"
    },
    {
      "cell_type": "code",
      "metadata": {
        "id": "jAnSz9_JR4Ob"
      },
      "execution_count": null,
      "outputs": [],
      "source": [
        "SELECT brand_name, MAX(base_price) AS max_base_price\n",
        "FROM product\n",
        "GROUP BY brand_name\n",
        "ORDER BY max_base_price DESC;"
      ],
      "id": "jAnSz9_JR4Ob"
    },
    {
      "cell_type": "markdown",
      "metadata": {
        "id": "CjDbaewRR4Ob"
      },
      "source": [
        "### Exercise 15 — Private Label vs Vendor SKUs\n",
        "\n",
        "**Objective:** Boolean aggregation\n",
        "\n",
        "Count SKUs grouped by `is_private_label`."
      ],
      "id": "CjDbaewRR4Ob"
    },
    {
      "cell_type": "code",
      "metadata": {
        "id": "WnE8KvwSR4Ob"
      },
      "execution_count": null,
      "outputs": [],
      "source": [
        "SELECT is_private_label, COUNT(*) AS sku_count\n",
        "FROM product\n",
        "GROUP BY is_private_label\n",
        "ORDER BY is_private_label DESC;"
      ],
      "id": "WnE8KvwSR4Ob"
    },
    {
      "cell_type": "markdown",
      "metadata": {
        "id": "Q6oEuayiR4Ob"
      },
      "source": [
        "### Exercise 16 — Top Brands by Average Margin\n",
        "\n",
        "**Objective:** Aggregate + order + limit\n",
        "\n",
        "Return the top 5 brands by average margin percentage."
      ],
      "id": "Q6oEuayiR4Ob"
    },
    {
      "cell_type": "code",
      "metadata": {
        "id": "cZX8pO8xR4Oc"
      },
      "execution_count": null,
      "outputs": [],
      "source": [
        "SELECT brand_name, AVG(margin_percentage) AS avg_margin_pct\n",
        "FROM product\n",
        "GROUP BY brand_name\n",
        "ORDER BY avg_margin_pct DESC\n",
        "FETCH FIRST 5 ROWS ONLY;"
      ],
      "id": "cZX8pO8xR4Oc"
    },
    {
      "cell_type": "markdown",
      "metadata": {
        "id": "IApNDpO-R4Oc"
      },
      "source": [
        "### Exercise 17 — Cheapest Product per Category (Subquery)\n",
        "\n",
        "**Objective:** Correlated subquery\n",
        "\n",
        "For each `item_taxonomy_1`, return the product with the minimum `base_price`."
      ],
      "id": "IApNDpO-R4Oc"
    },
    {
      "cell_type": "code",
      "metadata": {
        "id": "ybPM56rPR4Oc"
      },
      "execution_count": null,
      "outputs": [],
      "source": [
        "SELECT p1.item_taxonomy_1, p1.product_id, p1.product_name, p1.base_price\n",
        "FROM product p1\n",
        "WHERE p1.base_price = (\n",
        "  SELECT MIN(p2.base_price)\n",
        "  FROM product p2\n",
        "  WHERE p2.item_taxonomy_1 = p1.item_taxonomy_1\n",
        ")\n",
        "ORDER BY p1.item_taxonomy_1, p1.base_price;"
      ],
      "id": "ybPM56rPR4Oc"
    },
    {
      "cell_type": "markdown",
      "metadata": {
        "id": "FqhAzNJ9R4Od"
      },
      "source": [
        "### Exercise 18 — Landed vs Purchase Cost by Vendor\n",
        "\n",
        "**Objective:** JOIN + math + GROUP BY\n",
        "\n",
        "For vendor-sourced SKUs, compute average `landed_cost - purchase_cost` per vendor."
      ],
      "id": "FqhAzNJ9R4Od"
    },
    {
      "cell_type": "code",
      "metadata": {
        "id": "SL-3nxMPR4Od"
      },
      "execution_count": null,
      "outputs": [],
      "source": [
        "SELECT v.vendor_name,\n",
        "       AVG(p.landed_cost - p.purchase_cost) AS avg_landed_minus_purchase\n",
        "FROM product p\n",
        "JOIN vendor v\n",
        "  ON p.vendor_id = v.vendor_id\n",
        "GROUP BY v.vendor_name\n",
        "ORDER BY avg_landed_minus_purchase DESC;"
      ],
      "id": "SL-3nxMPR4Od"
    },
    {
      "cell_type": "markdown",
      "metadata": {
        "id": "xYRMuxcyR4Od"
      },
      "source": [
        "### Exercise 19 — Active vs Inactive Customers by Realm\n",
        "\n",
        "**Objective:** Conditional aggregation with CASE\n",
        "\n",
        "For each realm, count active vs inactive customers using `is_active_flag`."
      ],
      "id": "xYRMuxcyR4Od"
    },
    {
      "cell_type": "code",
      "metadata": {
        "id": "cJX89mfqR4Od"
      },
      "execution_count": null,
      "outputs": [],
      "source": [
        "SELECT realm,\n",
        "       SUM(CASE WHEN is_active_flag = 1 THEN 1 ELSE 0 END) AS active_customers,\n",
        "       SUM(CASE WHEN is_active_flag <> 1 THEN 1 ELSE 0 END) AS inactive_customers\n",
        "FROM customer\n",
        "GROUP BY realm\n",
        "ORDER BY active_customers DESC;"
      ],
      "id": "cJX89mfqR4Od"
    },
    {
      "cell_type": "markdown",
      "metadata": {
        "id": "-QjDVduRR4Oe"
      },
      "source": [
        "### Exercise 20 — Duplicate Product Names\n",
        "\n",
        "**Objective:** HAVING with counts\n",
        "\n",
        "Find any product names that appear more than once."
      ],
      "id": "-QjDVduRR4Oe"
    },
    {
      "cell_type": "code",
      "metadata": {
        "id": "iXEt3rLJR4Oe"
      },
      "execution_count": null,
      "outputs": [],
      "source": [
        "SELECT product_name, COUNT(*) AS name_count\n",
        "FROM product\n",
        "GROUP BY product_name\n",
        "HAVING COUNT(*) > 1\n",
        "ORDER BY name_count DESC, product_name;"
      ],
      "id": "iXEt3rLJR4Oe"
    },
    {
      "cell_type": "markdown",
      "metadata": {
        "id": "plIGkNR7R4Oe"
      },
      "source": [
        "## 🧬 Chapter III — Archmaesters of Data\n",
        "*By moonlight in the Citadel, the learned write queries that bend time and lineage.  \n",
        "Hierarchies, windows, and with them: foresight.*\n",
        "\n",
        "**Focus:** CTEs, window functions (where supported), self-joins, ranking, analytical views.\n"
      ],
      "id": "plIGkNR7R4Oe"
    },
    {
      "cell_type": "markdown",
      "metadata": {
        "id": "EbVEF4LJR4Oe"
      },
      "source": [
        "### Exercise 21 — Parent and Child Customers\n",
        "\n",
        "**Objective:** Self-join on parent_customer_id\n",
        "\n",
        "Show each customer and their parent customer (if any)."
      ],
      "id": "EbVEF4LJR4Oe"
    },
    {
      "cell_type": "code",
      "metadata": {
        "id": "ENbsvGY-R4Of"
      },
      "execution_count": null,
      "outputs": [],
      "source": [
        "SELECT c.customer_id,\n",
        "       c.first_name || ' ' || c.last_name AS customer_name,\n",
        "       p.customer_id AS parent_id,\n",
        "       p.first_name || ' ' || p.last_name AS parent_name\n",
        "FROM customer c\n",
        "LEFT JOIN customer p\n",
        "  ON c.parent_customer_id = p.customer_id\n",
        "ORDER BY parent_id NULLS FIRST, customer_name;"
      ],
      "id": "ENbsvGY-R4Of"
    },
    {
      "cell_type": "markdown",
      "metadata": {
        "id": "uBMpVzBNR4Of"
      },
      "source": [
        "### Exercise 22 — Running Total Sales by Order Date\n",
        "\n",
        "**Objective:** Analytical running sum (ANSI standard window)\n",
        "\n",
        "Compute running total of `order_total` by `order_date`."
      ],
      "id": "uBMpVzBNR4Of"
    },
    {
      "cell_type": "code",
      "metadata": {
        "id": "MO-41WviR4Of"
      },
      "execution_count": null,
      "outputs": [],
      "source": [
        "SELECT order_date,\n",
        "       SUM(order_total) OVER (ORDER BY order_date\n",
        "                              ROWS BETWEEN UNBOUNDED PRECEDING AND CURRENT ROW) AS running_order_total\n",
        "FROM sales_order\n",
        "WHERE order_total IS NOT NULL\n",
        "ORDER BY order_date;"
      ],
      "id": "MO-41WviR4Of"
    },
    {
      "cell_type": "markdown",
      "metadata": {
        "id": "NJkHoGqVR4Of"
      },
      "source": [
        "### Exercise 23 — Rank Brands by Total Net Sales\n",
        "\n",
        "**Objective:** Join fact + dim and rank using window\n",
        "\n",
        "Calculate total `net_sales` per brand (via product) and rank descending."
      ],
      "id": "NJkHoGqVR4Of"
    },
    {
      "cell_type": "code",
      "metadata": {
        "id": "RV2cAuDYR4Of"
      },
      "execution_count": null,
      "outputs": [],
      "source": [
        "WITH brand_sales AS (\n",
        "  SELECT p.brand_name,\n",
        "         SUM(sod.net_sales) AS total_net_sales\n",
        "  FROM sales_order_details sod\n",
        "  JOIN product p\n",
        "    ON sod.product_id = p.product_id\n",
        "  GROUP BY p.brand_name\n",
        ")\n",
        "SELECT brand_name,\n",
        "       total_net_sales,\n",
        "       RANK() OVER (ORDER BY total_net_sales DESC) AS sales_rank\n",
        "FROM brand_sales\n",
        "ORDER BY sales_rank;"
      ],
      "id": "RV2cAuDYR4Of"
    },
    {
      "cell_type": "markdown",
      "metadata": {
        "id": "4_sQEM3TR4Og"
      },
      "source": [
        "### Exercise 24 — Revenue by Brand Type\n",
        "\n",
        "**Objective:** Join through brand to group by brand_type\n",
        "\n",
        "Compute net revenue grouped by `brand_type` (Private Label vs Vendor)."
      ],
      "id": "4_sQEM3TR4Og"
    },
    {
      "cell_type": "code",
      "metadata": {
        "id": "gBgJf22HR4Og"
      },
      "execution_count": null,
      "outputs": [],
      "source": [
        "SELECT b.brand_type,\n",
        "       SUM(sod.net_sales) AS total_revenue\n",
        "FROM sales_order_details sod\n",
        "JOIN product p\n",
        "  ON sod.product_id = p.product_id\n",
        "JOIN brand b\n",
        "  ON p.brand_id = b.brand_id\n",
        "GROUP BY b.brand_type\n",
        "ORDER BY total_revenue DESC;"
      ],
      "id": "gBgJf22HR4Og"
    },
    {
      "cell_type": "markdown",
      "metadata": {
        "id": "ONFNMFW5R4Og"
      },
      "source": [
        "### Exercise 25 — Monthly Margin Totals\n",
        "\n",
        "**Objective:** Date grouping\n",
        "\n",
        "Aggregate total `margin` by calendar month from `sales_order_details` joined to `sales_order`."
      ],
      "id": "ONFNMFW5R4Og"
    },
    {
      "cell_type": "code",
      "metadata": {
        "id": "D-NhxQPNR4Og"
      },
      "execution_count": null,
      "outputs": [],
      "source": [
        "SELECT EXTRACT(YEAR FROM so.order_date) AS yr,\n",
        "       EXTRACT(MONTH FROM so.order_date) AS mo,\n",
        "       SUM(sod.margin) AS total_margin\n",
        "FROM sales_order_details sod\n",
        "JOIN sales_order so\n",
        "  ON sod.sales_order_id = so.sales_order_id\n",
        "GROUP BY EXTRACT(YEAR FROM so.order_date), EXTRACT(MONTH FROM so.order_date)\n",
        "ORDER BY yr, mo;"
      ],
      "id": "D-NhxQPNR4Og"
    },
    {
      "cell_type": "markdown",
      "metadata": {
        "id": "7IKEokRZR4Oh"
      },
      "source": [
        "### Exercise 26 — Top 3 Vendors by Net Sales\n",
        "\n",
        "**Objective:** Windowed row_number for top-N per entire set\n",
        "\n",
        "Return the top 3 vendors by total net sales."
      ],
      "id": "7IKEokRZR4Oh"
    },
    {
      "cell_type": "code",
      "metadata": {
        "id": "KUsgsO67R4Oh"
      },
      "execution_count": null,
      "outputs": [],
      "source": [
        "WITH vendor_sales AS (\n",
        "  SELECT v.vendor_name, SUM(sod.net_sales) AS total_sales\n",
        "  FROM sales_order_details sod\n",
        "  JOIN product p\n",
        "    ON sod.product_id = p.product_id\n",
        "  JOIN vendor v\n",
        "    ON p.vendor_id = v.vendor_id\n",
        "  GROUP BY v.vendor_name\n",
        ")\n",
        "SELECT vendor_name, total_sales\n",
        "FROM (\n",
        "  SELECT vendor_name, total_sales,\n",
        "         ROW_NUMBER() OVER (ORDER BY total_sales DESC) AS rn\n",
        "  FROM vendor_sales\n",
        ") t\n",
        "WHERE rn <= 3\n",
        "ORDER BY total_sales DESC;"
      ],
      "id": "KUsgsO67R4Oh"
    },
    {
      "cell_type": "markdown",
      "metadata": {
        "id": "2hD4urMQR4Oh"
      },
      "source": [
        "### Exercise 27 — High-Margin SKUs (CTE)\n",
        "\n",
        "**Objective:** CTE + filter then select\n",
        "\n",
        "Create a CTE of SKUs with `margin_percentage > 50` and list vendor + product."
      ],
      "id": "2hD4urMQR4Oh"
    },
    {
      "cell_type": "code",
      "metadata": {
        "id": "iGr-dvtaR4Oh"
      },
      "execution_count": null,
      "outputs": [],
      "source": [
        "WITH high_margin AS (\n",
        "  SELECT product_id, product_name, brand_name, margin_percentage, vendor_id\n",
        "  FROM product\n",
        "  WHERE margin_percentage > 50\n",
        ")\n",
        "SELECT h.product_id, h.product_name, v.vendor_name, h.margin_percentage\n",
        "FROM high_margin h\n",
        "LEFT JOIN vendor v\n",
        "  ON h.vendor_id = v.vendor_id\n",
        "ORDER BY h.margin_percentage DESC;"
      ],
      "id": "iGr-dvtaR4Oh"
    },
    {
      "cell_type": "markdown",
      "metadata": {
        "id": "NpnOiYTcR4Oi"
      },
      "source": [
        "### Exercise 28 — Private Label Share by Category\n",
        "\n",
        "**Objective:** Within-category share calculation\n",
        "\n",
        "For each `item_taxonomy_1`, compute private label share of total net sales."
      ],
      "id": "NpnOiYTcR4Oi"
    },
    {
      "cell_type": "code",
      "metadata": {
        "id": "zkdUNPjzR4Oi"
      },
      "execution_count": null,
      "outputs": [],
      "source": [
        "WITH cat_sales AS (\n",
        "  SELECT p.item_taxonomy_1 AS category,\n",
        "         SUM(sod.net_sales) AS total_sales,\n",
        "         SUM(CASE WHEN p.is_private_label = 1 THEN sod.net_sales ELSE 0 END) AS pl_sales\n",
        "  FROM sales_order_details sod\n",
        "  JOIN product p\n",
        "    ON sod.product_id = p.product_id\n",
        "  GROUP BY p.item_taxonomy_1\n",
        ")\n",
        "SELECT category,\n",
        "       pl_sales,\n",
        "       total_sales,\n",
        "       CASE WHEN total_sales > 0 THEN (pl_sales * 1.0) / total_sales ELSE 0 END AS private_label_share\n",
        "FROM cat_sales\n",
        "ORDER BY private_label_share DESC;"
      ],
      "id": "zkdUNPjzR4Oi"
    },
    {
      "cell_type": "markdown",
      "metadata": {
        "id": "wMdm4qAIR4Oi"
      },
      "source": [
        "### Exercise 29 — Multi-Category Customers\n",
        "\n",
        "**Objective:** Customer breadth using count distinct\n",
        "\n",
        "Find customers who bought from more than one top-level category."
      ],
      "id": "wMdm4qAIR4Oi"
    },
    {
      "cell_type": "code",
      "metadata": {
        "id": "Gq2erwV7R4Oi"
      },
      "execution_count": null,
      "outputs": [],
      "source": [
        "SELECT so.customer_id,\n",
        "       COUNT(DISTINCT p.item_taxonomy_1) AS distinct_categories\n",
        "FROM sales_order_details sod\n",
        "JOIN product p\n",
        "  ON sod.product_id = p.product_id\n",
        "JOIN sales_order so\n",
        "  ON sod.sales_order_id = so.sales_order_id\n",
        "GROUP BY so.customer_id\n",
        "HAVING COUNT(DISTINCT p.item_taxonomy_1) > 1\n",
        "ORDER BY distinct_categories DESC, so.customer_id;"
      ],
      "id": "Gq2erwV7R4Oi"
    },
    {
      "cell_type": "markdown",
      "metadata": {
        "id": "CDaKiXEuR4Oi"
      },
      "source": [
        "### Exercise 30 — Build FactSales View\n",
        "\n",
        "**Objective:** Star-join the core sales entities\n",
        "\n",
        "Create a view that joins order headers, order lines, products, brands, vendors, and customers."
      ],
      "id": "CDaKiXEuR4Oi"
    },
    {
      "cell_type": "code",
      "metadata": {
        "id": "i0gLmhIoR4Oj"
      },
      "execution_count": null,
      "outputs": [],
      "source": [
        "-- Depending on your permissions, you may need to DROP VIEW first.\n",
        "-- This statement is ANSI-friendly; if your dialect differs, adjust CREATE OR REPLACE accordingly.\n",
        "CREATE VIEW fact_sales AS\n",
        "SELECT\n",
        "  sod.sales_order_detail_id,\n",
        "  sod.sales_order_id,\n",
        "  so.order_date,\n",
        "  so.customer_id,\n",
        "  c.first_name AS customer_first_name,\n",
        "  c.last_name  AS customer_last_name,\n",
        "  c.realm,\n",
        "  p.product_id,\n",
        "  p.product_name,\n",
        "  p.item_taxonomy_1 AS category,\n",
        "  p.item_taxonomy_2 AS subcategory,\n",
        "  p.brand_id,\n",
        "  b.brand_name,\n",
        "  b.brand_type,\n",
        "  p.vendor_id,\n",
        "  v.vendor_name,\n",
        "  sod.quantity_ordered,\n",
        "  sod.unit_price,\n",
        "  sod.discount_pct,\n",
        "  sod.discount_per_unit,\n",
        "  sod.line_subtotal,\n",
        "  sod.line_tax,\n",
        "  sod.net_sales,\n",
        "  sod.margin\n",
        "FROM sales_order_details sod\n",
        "LEFT JOIN sales_order so\n",
        "  ON sod.sales_order_id = so.sales_order_id\n",
        "LEFT JOIN customer c\n",
        "  ON so.customer_id = c.customer_id\n",
        "LEFT JOIN product p\n",
        "  ON sod.product_id = p.product_id\n",
        "LEFT JOIN brand b\n",
        "  ON p.brand_id = b.brand_id\n",
        "LEFT JOIN vendor v\n",
        "  ON p.vendor_id = v.vendor_id;"
      ],
      "id": "i0gLmhIoR4Oj"
    },
    {
      "cell_type": "markdown",
      "metadata": {
        "id": "HivwJRD4R4Oj"
      },
      "source": [
        "\n",
        "---\n",
        "\n",
        "## Epilogue\n",
        "You’ve walked the length of the ledger and back again.  \n",
        "Carry these queries into any realm that needs clarity.\n",
        "\n",
        "**The Mercury Brand System | mercurymusings.com**\n"
      ],
      "id": "HivwJRD4R4Oj"
    }
  ],
  "metadata": {
    "kernelspec": {
      "display_name": "Python 3 (SQL content in cells)",
      "language": "python",
      "name": "python3"
    },
    "language_info": {
      "name": "python",
      "version": "3.10"
    },
    "colab": {
      "provenance": [],
      "include_colab_link": true
    }
  },
  "nbformat": 4,
  "nbformat_minor": 5
}