{
  "cells": [
    {
      "cell_type": "markdown",
      "metadata": {
        "id": "view-in-github",
        "colab_type": "text"
      },
      "source": [
        "<a href=\"https://colab.research.google.com/github/ardonna-mm/the-kings-pantry/blob/main/The_Kings_Pantry_SQL_Workbook_Squire.ipynb\" target=\"_parent\"><img src=\"https://colab.research.google.com/assets/colab-badge.svg\" alt=\"Open In Colab\"/></a>"
      ]
    },
    {
      "cell_type": "markdown",
      "id": "OIsn_N41R4OP",
      "metadata": {
        "id": "OIsn_N41R4OP"
      },
      "source": [
        "# 🏰 The King's Pantry SQL Colab Notebook I — The Squire’s Path\n",
        "\n",
        "**Author:** Ardonna Cardines (Mercury Musings)  \n",
        "**Dataset:** [the_kings_pantry](https://github.com/ardonna-mm/the-kings-pantry) *(ANSI SQL; compatible with MySQL and SQL Server)*  \n",
        "\n",
        "**Prologue — The Royal Ledger Awakens**  \n",
        "In the storerooms beneath the castle, you find a ledger older than the throne itself. Columns inked in tidy hands; rows etched like trade routes across the realm.  \n",
        "\n",
        "Today, we learn to read it — and more importantly, to ask it better questions.  \n",
        "\n",
        "---\n",
        "\n",
        "### 🧭 About This Notebook  \n",
        "This notebook is a **guided SQL workbook** for analysts who love storytelling and structure. All setup is handled for you — just run each cell in order.  \n",
        "\n",
        "You’ll learn how to:  \n",
        "\n",
        "- SELECT\n",
        "- WHERE\n",
        "- ORDER BY\n",
        "- DISTINCT\n",
        "- Simple filters\n",
        "\n",
        "**No setup required.** Everything runs in this notebook.  \n",
        "\n",
        "**❤️ PRO TIP:** Download the ***Business Acumen Field Guide***. This is bonus content that most SQL tutorials do not offer or bother to include. The guide is essentially a reference tool that explains business concepts you might not have known and offers a deeper dive on business concepts you will encounter as an analyst.\n"
      ]
    },
    {
      "cell_type": "markdown",
      "source": [
        "---\n",
        "### 📢 START HERE\n",
        "You do not have to do any coding or set up for this tutorial. The code cell below will do all of that for you.\n",
        "\n",
        "**Simply run the cell and wait for this message to pop up:**\n",
        "\n",
        "✅ Realm initialized! Your data is ready to query.\n",
        "\n",
        "⭐ Available tables: products, vendors, customers, sales_orders, sales_order_details\"\n",
        "\n",
        "So... run the cell now, wait, and voila!"
      ],
      "metadata": {
        "id": "703AEXPRguej"
      },
      "id": "703AEXPRguej"
    },
    {
      "cell_type": "code",
      "execution_count": null,
      "id": "VI8adftUCuxc",
      "metadata": {
        "id": "VI8adftUCuxc"
      },
      "outputs": [],
      "source": [
        "# 🏗️ STEP 1: Load The King's Pantry Realm\n",
        "# -------------------------------------------------------------\n",
        "# This cell installs dependencies and loads all CSV data automatically.\n",
        "# Once you see the ✅ message, your realm is ready to explore.\n",
        "\n",
        "!pip install duckdb pandas -q\n",
        "\n",
        "import duckdb\n",
        "import pandas as pd\n",
        "\n",
        "base_url = \"https://raw.githubusercontent.com/ardonna-mm/the-kings-pantry/main/data/\"\n",
        "\n",
        "tables = {\n",
        "    \"product\": \"product.csv\",\n",
        "    \"brand\": \"brand.csv\",\n",
        "    \"vendor\": \"vendor.csv\",\n",
        "    \"customer\": \"customer.csv\",\n",
        "    \"sales_order\": \"sales_order.csv\",\n",
        "    \"sales_order_details\": \"sales_order_details.csv\"\n",
        "}\n",
        "\n",
        "for name, file in tables.items():\n",
        "    df = pd.read_csv(base_url + file)\n",
        "    duckdb.register(name, df)\n",
        "\n",
        "print(\"✅ Realm initialized! Your data is ready to query.\")\n",
        "print(\"Available tables: products, vendors, customers, sales_orders, sales_order_details\")"
      ]
    },
    {
      "cell_type": "markdown",
      "source": [
        "⚙️ Note for Learners: Real-World SQL vs. Notebook SQL\n",
        "\n",
        "In a real-world SQL environment — like SQL Server (SSMS), MySQL Workbench, or PostgreSQL — you would write and run queries directly, like this:\n",
        "\n",
        "**SELECT * FROM product LIMIT 5;**\n",
        "\n",
        "There’s no **duckdb.sql(\"\"\"...\"\"\")** wrapper. This is unique to notebook environments (like Google Colab or Jupyter) because we’re running SQL through Python.\n",
        "\n",
        "The wrapper simply tells Python to pass your SQL query into DuckDB, which runs it behind the scenes and returns the results as a table you can preview.\n",
        "\n",
        "**So think of it this way:**\n",
        "\n",
        "- Notebook = sandboxed teaching tool 🧠\n",
        "\n",
        "- SSMS/MySQL/Postgres = real-world application 💼\n",
        "\n",
        "\n",
        "The logic, syntax, and output are exactly the same — only the environment\n",
        "changes.\n",
        "\n",
        "---"
      ],
      "metadata": {
        "id": "zGKnJUf7LT4X"
      },
      "id": "zGKnJUf7LT4X"
    },
    {
      "cell_type": "markdown",
      "metadata": {
        "id": "ZhhQCo_rLreP"
      },
      "source": [
        "\n",
        "## 🧱 Now, let us begin our journey!"
      ],
      "id": "ZhhQCo_rLreP"
    },
    {
      "cell_type": "markdown",
      "id": "aifydcTBCQKW",
      "metadata": {
        "id": "aifydcTBCQKW"
      },
      "source": [
        "\n",
        "### 🪄 Squires of the Realm\n",
        "*The squires gather in the candlelit hall, parchment scattered, quills poised. Each query is a new spell — a whisper in the ledger of the realm.*  \n",
        "\n",
        "**Focus:** SELECT, WHERE, ORDER BY, DISTINCT, LIMIT/FETCH, simple expressions."
      ]
    },
    {
      "cell_type": "markdown",
      "id": "fFVyWwC6R4OQ",
      "metadata": {
        "id": "fFVyWwC6R4OQ"
      },
      "source": [
        "### ☠️ Quest 1 — Vendors of The North\n",
        "\n",
        "**Objective:** Filter rows with WHERE\n",
        "\n",
        "Retrieve all vendors located in **The North**. Show `vendor_name` and `region`."
      ]
    },
    {
      "cell_type": "code",
      "source": [
        "## Your Turn, Apprentice!\n",
        "\n",
        "duckdb.sql(\"\"\"\n",
        "-- Write your query here\n",
        "-- Example structure:\n",
        "-- SELECT v.vendor_name, SUM(sod.sales_amount) AS total_sales\n",
        "-- FROM sales_order_details sod\n",
        "-- JOIN vendor v ON sod.vendor_id = v.vendor_id\n",
        "-- GROUP BY v.vendor_name;\n",
        "\"\"\")\n"
      ],
      "metadata": {
        "id": "FWgHtzszpQze"
      },
      "id": "FWgHtzszpQze",
      "execution_count": null,
      "outputs": []
    },
    {
      "cell_type": "markdown",
      "source": [],
      "metadata": {
        "id": "xnRmJ29xsHzJ"
      },
      "id": "xnRmJ29xsHzJ"
    },
    {
      "cell_type": "markdown",
      "id": "ghSsRtdmR4OR",
      "metadata": {
        "id": "ghSsRtdmR4OR"
      },
      "source": [
        "### 👽 Quest 2 — Private Label Brands (first five)\n",
        "\n",
        "**Objective:** Limit results and select specific columns\n",
        "\n",
        "List the first five private label brands with `brand_name` and `private_label_tier`."
      ]
    },
    {
      "cell_type": "code",
      "execution_count": null,
      "id": "NKLDQ6nfR4OS",
      "metadata": {
        "id": "NKLDQ6nfR4OS"
      },
      "outputs": [],
      "source": [
        "duckdb.sql(\"\"\"\n",
        "SELECT brand_name, private_label_tier\n",
        "FROM brand\n",
        "WHERE brand_type = 'Private Label'\n",
        "ORDER BY brand_name\n",
        "FETCH FIRST 5 ROWS ONLY;\n",
        "\"\"\")"
      ]
    },
    {
      "cell_type": "markdown",
      "id": "sKJnHf8gR4OS",
      "metadata": {
        "id": "sKJnHf8gR4OS"
      },
      "source": [
        "### 🎃 Quest 3 — Pantry Essentials Catalog\n",
        "\n",
        "**Objective:** Filter by category\n",
        "\n",
        "Show `product_name`, `item_taxonomy_1`, `item_taxonomy_2`, `base_price` for products in **Pantry Essentials**."
      ]
    },
    {
      "cell_type": "code",
      "execution_count": null,
      "id": "0Wew9lKGR4OS",
      "metadata": {
        "id": "0Wew9lKGR4OS"
      },
      "outputs": [],
      "source": [
        "duckdb.sql(\"\"\"\n",
        "SELECT product_name, item_taxonomy_1, item_taxonomy_2, base_price\n",
        "FROM product\n",
        "WHERE item_taxonomy_1 = 'Pantry Essentials'\n",
        "ORDER BY product_name;\n",
        "\"\"\")"
      ]
    },
    {
      "cell_type": "markdown",
      "id": "5Kg0HQhmR4OT",
      "metadata": {
        "id": "5Kg0HQhmR4OT"
      },
      "source": [
        "### 🙀 Quest 4 — Highest Margin SKUs\n",
        "\n",
        "**Objective:** Sort descending by a numeric column\n",
        "\n",
        "Return top 10 products by `margin_percentage`."
      ]
    },
    {
      "cell_type": "code",
      "execution_count": null,
      "id": "j9X1cV25R4OT",
      "metadata": {
        "id": "j9X1cV25R4OT"
      },
      "outputs": [],
      "source": [
        "duckdb.sql(\"\"\"\n",
        "SELECT product_id, product_name, margin_percentage\n",
        "FROM product\n",
        "ORDER BY margin_percentage DESC\n",
        "FETCH FIRST 10 ROWS ONLY;\n",
        "\"\"\")"
      ]
    },
    {
      "cell_type": "markdown",
      "id": "8GDE4k1-R4OT",
      "metadata": {
        "id": "8GDE4k1-R4OT"
      },
      "source": [
        "### 💀 Quest 5 — Discontinued Products\n",
        "\n",
        "**Objective:** Boolean flag filters\n",
        "\n",
        "List `product_id`, `product_name` where `is_discontinued_flag = 1`."
      ]
    },
    {
      "cell_type": "code",
      "execution_count": null,
      "id": "3K1CDrCdR4OT",
      "metadata": {
        "id": "3K1CDrCdR4OT"
      },
      "outputs": [],
      "source": [
        "duckdb.sql(\"\"\"\n",
        "SELECT product_id, product_name\n",
        "FROM product\n",
        "WHERE is_discontinued_flag = 1\n",
        "ORDER BY product_id;\n",
        "\"\"\")"
      ]
    },
    {
      "cell_type": "markdown",
      "id": "QDsXmkh7R4OU",
      "metadata": {
        "id": "QDsXmkh7R4OU"
      },
      "source": [
        "### 🪭 Quest 6 — Active Vendor Count\n",
        "\n",
        "**Objective:** Aggregate count with simple filter\n",
        "\n",
        "Count how many vendors are currently active (`is_active_flag = 1`)."
      ]
    },
    {
      "cell_type": "code",
      "execution_count": null,
      "id": "1cQQBhI6R4OU",
      "metadata": {
        "id": "1cQQBhI6R4OU"
      },
      "outputs": [],
      "source": [
        "duckdb.sql(\"\"\"\n",
        "SELECT COUNT(*) AS active_vendor_count\n",
        "FROM vendor\n",
        "WHERE is_active_flag = 1;\n",
        "\"\"\")"
      ]
    },
    {
      "cell_type": "markdown",
      "id": "Ja4UECnfR4OU",
      "metadata": {
        "id": "Ja4UECnfR4OU"
      },
      "source": [
        "### 🎩 Quest 7 — Distinct Departments\n",
        "\n",
        "**Objective:** SELECT DISTINCT for categorical exploration\n",
        "\n",
        "Show distinct values of `item_taxonomy_1` from `product`."
      ]
    },
    {
      "cell_type": "code",
      "execution_count": null,
      "id": "oJqUy19lR4OU",
      "metadata": {
        "id": "oJqUy19lR4OU"
      },
      "outputs": [],
      "source": [
        "duckdb.sql(\"\"\"\n",
        "SELECT DISTINCT item_taxonomy_1\n",
        "FROM product\n",
        "ORDER BY item_taxonomy_1;\n",
        "\"\"\")"
      ]
    },
    {
      "cell_type": "markdown",
      "id": "3uEIWVu5R4OU",
      "metadata": {
        "id": "3uEIWVu5R4OU"
      },
      "source": [
        "### 👩‍👩‍👧‍👧 Quest 8 — Customers in Dorne\n",
        "\n",
        "**Objective:** Basic filtering by realm\n",
        "\n",
        "Return `first_name`, `last_name`, `realm` for customers in **Dorne**."
      ]
    },
    {
      "cell_type": "code",
      "execution_count": null,
      "id": "v9awDTRrR4OV",
      "metadata": {
        "id": "v9awDTRrR4OV"
      },
      "outputs": [],
      "source": [
        "duckdb.sql(\"\"\"\n",
        "SELECT first_name, last_name, realm\n",
        "FROM customer\n",
        "WHERE realm = 'Dorne'\n",
        "ORDER BY last_name, first_name;\n",
        "\"\"\")"
      ]
    },
    {
      "cell_type": "markdown",
      "id": "l5Sj7UTER4OV",
      "metadata": {
        "id": "l5Sj7UTER4OV"
      },
      "source": [
        "### 🫅🏻 Quest 9 — Price vs Cost\n",
        "\n",
        "**Objective:** Derived columns with arithmetic\n",
        "\n",
        "For each product, show `product_name`, `base_price`, `landed_cost`, and a column `price_minus_cost`."
      ]
    },
    {
      "cell_type": "code",
      "execution_count": null,
      "id": "jAgPeItzR4OV",
      "metadata": {
        "id": "jAgPeItzR4OV"
      },
      "outputs": [],
      "source": [
        "duckdb.sql(\"\"\"\n",
        "SELECT product_name, base_price, landed_cost,\n",
        "       (base_price - landed_cost) AS price_minus_cost\n",
        "FROM product\n",
        "ORDER BY price_minus_cost DESC;\n",
        "\"\"\")"
      ]
    },
    {
      "cell_type": "markdown",
      "id": "PsU4B4lAR4OV",
      "metadata": {
        "id": "PsU4B4lAR4OV"
      },
      "source": [
        "### ☕️ Quest 10 — Filter by Unit Size\n",
        "\n",
        "**Objective:** Text equality\n",
        "\n",
        "List all products sold in `16 oz` packaging."
      ]
    },
    {
      "cell_type": "code",
      "execution_count": null,
      "id": "4D9SZq-SR4OW",
      "metadata": {
        "id": "4D9SZq-SR4OW"
      },
      "outputs": [],
      "source": [
        "duckdb.sql(\"\"\"\n",
        "SELECT product_id, product_name, unit_size\n",
        "FROM product\n",
        "WHERE unit_size = '16 oz'\n",
        "ORDER BY product_id;\n",
        "\"\"\")"
      ]
    },
    {
      "cell_type": "markdown",
      "id": "EFGVcKa3SLyl",
      "metadata": {
        "id": "EFGVcKa3SLyl"
      },
      "source": [
        "### 🏰 Quest 11 — The Royal Menu  \n",
        "**Objective:** DISTINCT and ORDER BY  \n",
        "List all unique product categories in the realm, sorted alphabetically.\n"
      ]
    },
    {
      "cell_type": "code",
      "execution_count": null,
      "id": "ncfkF2HLSPaR",
      "metadata": {
        "id": "ncfkF2HLSPaR"
      },
      "outputs": [],
      "source": [
        "duckdb.sql(\"\"\"\n",
        "SELECT DISTINCT item_taxonomy_1\n",
        "FROM product\n",
        "ORDER BY item_taxonomy_1;\n",
        "\"\"\")"
      ]
    },
    {
      "cell_type": "markdown",
      "id": "Zze1M8eJSTgk",
      "metadata": {
        "id": "Zze1M8eJSTgk"
      },
      "source": [
        "### 💰 Quest 12 — The Coin Counter  \n",
        "**Objective:** Derived columns with arithmetic  \n",
        "For each product, calculate its potential gross revenue (`base_price * 100` as a placeholder for quantity).\n"
      ]
    },
    {
      "cell_type": "code",
      "execution_count": null,
      "id": "rLq4VHyESdYO",
      "metadata": {
        "id": "rLq4VHyESdYO"
      },
      "outputs": [],
      "source": [
        "duckdb.sql(\"\"\"\n",
        "SELECT product_name,\n",
        "       base_price,\n",
        "       (base_price * 100) AS gross_potential\n",
        "FROM product\n",
        "ORDER BY gross_potential DESC;\n",
        "\"\"\")"
      ]
    },
    {
      "cell_type": "markdown",
      "id": "xhe-Q60ESXh8",
      "metadata": {
        "id": "xhe-Q60ESXh8"
      },
      "source": [
        "### 🌨 Quest 13 — The Northern Vendors  \n",
        "**Objective:** Text matching with LIKE  \n",
        "Find all vendors whose region includes “North.”\n"
      ]
    },
    {
      "cell_type": "code",
      "execution_count": null,
      "id": "q5JfMxWJSlXw",
      "metadata": {
        "id": "q5JfMxWJSlXw"
      },
      "outputs": [],
      "source": [
        "duckdb.sql(\"\"\"\n",
        "SELECT vendor_name, region\n",
        "FROM vendor\n",
        "WHERE region LIKE '%North%';\n",
        "\"\"\")"
      ]
    },
    {
      "cell_type": "markdown",
      "id": "cNDMKO6LSamU",
      "metadata": {
        "id": "cNDMKO6LSamU"
      },
      "source": [
        "### 📜 Quest 14 — The Royal Ledger Review  \n",
        "**Objective:** Filtering and sorting numeric columns  \n",
        "Show all sales orders with a total greater than 100 gold coins, sorted from highest to lowest total.\n"
      ]
    },
    {
      "cell_type": "code",
      "execution_count": null,
      "id": "dM23AM7wSty_",
      "metadata": {
        "id": "dM23AM7wSty_"
      },
      "outputs": [],
      "source": [
        "duckdb.sql(\"\"\"\n",
        "SELECT realm, COUNT(*) AS total_customers\n",
        "FROM customer\n",
        "GROUP BY realm\n",
        "ORDER BY total_customers DESC;\n",
        "\"\"\")"
      ]
    },
    {
      "cell_type": "markdown",
      "id": "Yqdow-QgVgzV",
      "metadata": {
        "id": "Yqdow-QgVgzV"
      },
      "source": [
        "### 🤝 Quest 15 — The Loyal Houses  \n",
        "**Objective:** GROUP BY and COUNT  \n",
        "Count how many customers belong to each realm.\n"
      ]
    },
    {
      "cell_type": "code",
      "execution_count": null,
      "id": "mPV9M0rlVmsO",
      "metadata": {
        "id": "mPV9M0rlVmsO"
      },
      "outputs": [],
      "source": [
        "duckdb.sql(\"\"\"\n",
        "SELECT realm, COUNT(*) AS total_customers\n",
        "FROM customer\n",
        "GROUP BY realm\n",
        "ORDER BY total_customers DESC;\n",
        "\"\"\")"
      ]
    },
    {
      "cell_type": "markdown",
      "id": "HivwJRD4R4Oj",
      "metadata": {
        "id": "HivwJRD4R4Oj"
      },
      "source": [
        "\n",
        "## 🏁 Epilogue — The Ledger Closes  \n",
        "\n",
        "Your journey through *The King’s Pantry* is complete.  \n",
        "\n",
        "But the story doesn’t end here — check out the next course 'Lord of the Kingsguard' where you'll learn:\n",
        "\n",
        "You’ll learn:\n",
        "\n",
        "- JOINs\n",
        "- GROUP BY\n",
        "- CASE\n",
        "- Subqueries\n",
        "- Aggregate logic\n",
        "\n",
        "You'll be challenged to:\n",
        "- Manually data load\n",
        "- Less code walkthroughs\n",
        "\n",
        "\n",
        "**Achievement Unlocked:** *Squire Analyst of the Realm* 🧙‍♀️  \n",
        "\n",
        "**The Mercury Brand System** | [mercurymusings.com](https://mercurymusings.com)\n"
      ]
    }
  ],
  "metadata": {
    "colab": {
      "provenance": [],
      "include_colab_link": true
    },
    "kernelspec": {
      "display_name": "Python 3 (SQL content in cells)",
      "language": "python",
      "name": "python3"
    },
    "language_info": {
      "name": "python",
      "version": "3.10"
    }
  },
  "nbformat": 4,
  "nbformat_minor": 5
}