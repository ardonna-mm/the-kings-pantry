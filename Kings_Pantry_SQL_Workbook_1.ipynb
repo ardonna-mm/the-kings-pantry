{
  "cells": [
    {
      "cell_type": "markdown",
      "metadata": {
        "id": "view-in-github",
        "colab_type": "text"
      },
      "source": [
        "<a href=\"https://colab.research.google.com/github/ardonna-mm/the-kings-pantry/blob/main/Kings_Pantry_SQL_Workbook_1.ipynb\" target=\"_parent\"><img src=\"https://colab.research.google.com/assets/colab-badge.svg\" alt=\"Open In Colab\"/></a>"
      ]
    },
    {
      "cell_type": "markdown",
      "metadata": {
        "id": "OIsn_N41R4OP"
      },
      "source": [
        "# 🏰 The King's Pantry SQL Colab Notebook I — The Squire’s Path\n",
        "\n",
        "**Author:** Ardonna Cardines (Mercury Musings)  \n",
        "**Dataset:** [the_kings_pantry](https://github.com/ardonna-mm/the-kings-pantry) *(ANSI SQL; compatible with MySQL and SQL Server)*  \n",
        "\n",
        "**Prologue — The Royal Ledger Awakens**  \n",
        "In the storerooms beneath the castle, you find a ledger older than the throne itself. Columns inked in tidy hands; rows etched like trade routes across the realm.  \n",
        "\n",
        "Today, we learn to read it — and more importantly, to ask it better questions.  \n",
        "\n",
        "---\n",
        "\n",
        "### 🧭 About This Notebook  \n",
        "This notebook is a **guided SQL workbook** for analysts who love storytelling and structure. All setup is handled for you — just run each cell in order.  \n",
        "\n",
        "You’ll learn how to:  \n",
        "\n",
        "- SELECT\n",
        "- WHERE\n",
        "- ORDER BY\n",
        "- DISTINCT\n",
        "- Simple filters\n",
        "\n",
        "**No setup required.** Everything runs in this notebook.  \n",
        "\n",
        "---\n",
        "\n",
        "**Once you master this notebook, check out:**  \n",
        "👉 *The King’s Pantry: Lord Commander of the Kingsguard*\n",
        "\n",
        "You’ll learn:\n",
        "\n",
        "- JOINs\n",
        "- GROUP BY\n",
        "- CASE\n",
        "- Subqueries\n",
        "- Aggregate logic\n",
        "\n",
        "You'll be challenged to:\n",
        "- Manually data load\n",
        "- Less code walkthroughs\n"
      ],
      "id": "OIsn_N41R4OP"
    },
    {
      "cell_type": "code",
      "source": [
        "# 🏗️ STEP 1: Load The King's Pantry Realm\n",
        "# -------------------------------------------------------------\n",
        "# This cell installs dependencies and loads all CSV data automatically.\n",
        "# Once you see the ✅ message, your realm is ready to explore.\n",
        "\n",
        "!pip install duckdb pandas -q\n",
        "\n",
        "import duckdb\n",
        "import pandas as pd\n",
        "\n",
        "base_url = \"https://raw.githubusercontent.com/ardonna-mm/the-kings-pantry/main/data/\"\n",
        "\n",
        "tables = {\n",
        "    \"products\": \"product.csv\",\n",
        "    \"vendors\": \"vendor.csv\",\n",
        "    \"customers\": \"customer.csv\",\n",
        "    \"sales_orders\": \"sales_order.csv\",\n",
        "    \"sales_order_details\": \"sales_order_details.csv\"\n",
        "}\n",
        "\n",
        "for name, file in tables.items():\n",
        "    df = pd.read_csv(base_url + file)\n",
        "    duckdb.register(name, df)\n",
        "\n",
        "print(\"✅ Realm initialized! Your data is ready to query.\")\n",
        "print(\"Available tables: products, vendors, customers, sales_orders, sales_order_details\")\n"
      ],
      "metadata": {
        "id": "VI8adftUCuxc"
      },
      "id": "VI8adftUCuxc",
      "execution_count": null,
      "outputs": []
    },
    {
      "cell_type": "markdown",
      "source": [
        "\n",
        "## 🧱 Squires of the Realm\n",
        "*The squires gather in the candlelit hall, parchment scattered, quills poised. Each query is a new spell — a whisper in the ledger of the realm.*  \n",
        "\n",
        "**Focus:** SELECT, WHERE, ORDER BY, DISTINCT, LIMIT/FETCH, simple expressions."
      ],
      "metadata": {
        "id": "aifydcTBCQKW"
      },
      "id": "aifydcTBCQKW"
    },
    {
      "cell_type": "markdown",
      "metadata": {
        "id": "fFVyWwC6R4OQ"
      },
      "source": [
        "### ☠️ Quest 1 — Vendors of The North\n",
        "\n",
        "**Objective:** Filter rows with WHERE\n",
        "\n",
        "Retrieve all vendors located in **The North**. Show `vendor_name` and `region`."
      ],
      "id": "fFVyWwC6R4OQ"
    },
    {
      "cell_type": "code",
      "metadata": {
        "id": "TEE3N1toR4OR"
      },
      "execution_count": null,
      "outputs": [],
      "source": [
        "SELECT vendor_name, region\n",
        "FROM vendor\n",
        "WHERE region = 'The North';"
      ],
      "id": "TEE3N1toR4OR"
    },
    {
      "cell_type": "markdown",
      "metadata": {
        "id": "ghSsRtdmR4OR"
      },
      "source": [
        "### 👽 Quest 2 — Private Label Brands (first five)\n",
        "\n",
        "**Objective:** Limit results and select specific columns\n",
        "\n",
        "List the first five private label brands with `brand_name` and `private_label_tier`."
      ],
      "id": "ghSsRtdmR4OR"
    },
    {
      "cell_type": "code",
      "metadata": {
        "id": "NKLDQ6nfR4OS"
      },
      "execution_count": null,
      "outputs": [],
      "source": [
        "SELECT brand_name, private_label_tier\n",
        "FROM brand\n",
        "WHERE brand_type = 'Private Label'\n",
        "ORDER BY brand_name\n",
        "FETCH FIRST 5 ROWS ONLY;"
      ],
      "id": "NKLDQ6nfR4OS"
    },
    {
      "cell_type": "markdown",
      "metadata": {
        "id": "sKJnHf8gR4OS"
      },
      "source": [
        "### 🎃 Quest 3 — Pantry Essentials Catalog\n",
        "\n",
        "**Objective:** Filter by category\n",
        "\n",
        "Show `product_name`, `item_taxonomy_1`, `item_taxonomy_2`, `base_price` for products in **Pantry Essentials**."
      ],
      "id": "sKJnHf8gR4OS"
    },
    {
      "cell_type": "code",
      "metadata": {
        "id": "0Wew9lKGR4OS"
      },
      "execution_count": null,
      "outputs": [],
      "source": [
        "SELECT product_name, item_taxonomy_1, item_taxonomy_2, base_price\n",
        "FROM product\n",
        "WHERE item_taxonomy_1 = 'Pantry Essentials'\n",
        "ORDER BY product_name;"
      ],
      "id": "0Wew9lKGR4OS"
    },
    {
      "cell_type": "markdown",
      "metadata": {
        "id": "5Kg0HQhmR4OT"
      },
      "source": [
        "### 🙀 Quest 4 — Highest Margin SKUs\n",
        "\n",
        "**Objective:** Sort descending by a numeric column\n",
        "\n",
        "Return top 10 products by `margin_percentage`."
      ],
      "id": "5Kg0HQhmR4OT"
    },
    {
      "cell_type": "code",
      "metadata": {
        "id": "j9X1cV25R4OT"
      },
      "execution_count": null,
      "outputs": [],
      "source": [
        "SELECT product_id, product_name, margin_percentage\n",
        "FROM product\n",
        "ORDER BY margin_percentage DESC\n",
        "FETCH FIRST 10 ROWS ONLY;"
      ],
      "id": "j9X1cV25R4OT"
    },
    {
      "cell_type": "markdown",
      "metadata": {
        "id": "8GDE4k1-R4OT"
      },
      "source": [
        "### 💀 Quest 5 — Discontinued Products\n",
        "\n",
        "**Objective:** Boolean flag filters\n",
        "\n",
        "List `product_id`, `product_name` where `is_discontinued_flag = 1`."
      ],
      "id": "8GDE4k1-R4OT"
    },
    {
      "cell_type": "code",
      "metadata": {
        "id": "3K1CDrCdR4OT"
      },
      "execution_count": null,
      "outputs": [],
      "source": [
        "SELECT product_id, product_name\n",
        "FROM product\n",
        "WHERE is_discontinued_flag = 1\n",
        "ORDER BY product_id;"
      ],
      "id": "3K1CDrCdR4OT"
    },
    {
      "cell_type": "markdown",
      "metadata": {
        "id": "QDsXmkh7R4OU"
      },
      "source": [
        "### 🪭 Quest 6 — Active Vendor Count\n",
        "\n",
        "**Objective:** Aggregate count with simple filter\n",
        "\n",
        "Count how many vendors are currently active (`is_active_flag = 1`)."
      ],
      "id": "QDsXmkh7R4OU"
    },
    {
      "cell_type": "code",
      "metadata": {
        "id": "1cQQBhI6R4OU"
      },
      "execution_count": null,
      "outputs": [],
      "source": [
        "SELECT COUNT(*) AS active_vendor_count\n",
        "FROM vendor\n",
        "WHERE is_active_flag = 1;"
      ],
      "id": "1cQQBhI6R4OU"
    },
    {
      "cell_type": "markdown",
      "metadata": {
        "id": "Ja4UECnfR4OU"
      },
      "source": [
        "### 🎩 Quest 7 — Distinct Departments\n",
        "\n",
        "**Objective:** SELECT DISTINCT for categorical exploration\n",
        "\n",
        "Show distinct values of `item_taxonomy_1` from `product`."
      ],
      "id": "Ja4UECnfR4OU"
    },
    {
      "cell_type": "code",
      "metadata": {
        "id": "oJqUy19lR4OU"
      },
      "execution_count": null,
      "outputs": [],
      "source": [
        "SELECT DISTINCT item_taxonomy_1\n",
        "FROM product\n",
        "ORDER BY item_taxonomy_1;"
      ],
      "id": "oJqUy19lR4OU"
    },
    {
      "cell_type": "markdown",
      "metadata": {
        "id": "3uEIWVu5R4OU"
      },
      "source": [
        "### 👩‍👩‍👧‍👧 Quest 8 — Customers in Dorne\n",
        "\n",
        "**Objective:** Basic filtering by realm\n",
        "\n",
        "Return `first_name`, `last_name`, `realm` for customers in **Dorne**."
      ],
      "id": "3uEIWVu5R4OU"
    },
    {
      "cell_type": "code",
      "metadata": {
        "id": "v9awDTRrR4OV"
      },
      "execution_count": null,
      "outputs": [],
      "source": [
        "SELECT first_name, last_name, realm\n",
        "FROM customer\n",
        "WHERE realm = 'Dorne'\n",
        "ORDER BY last_name, first_name;"
      ],
      "id": "v9awDTRrR4OV"
    },
    {
      "cell_type": "markdown",
      "metadata": {
        "id": "l5Sj7UTER4OV"
      },
      "source": [
        "### 🫅🏻 Quest 9 — Price vs Cost\n",
        "\n",
        "**Objective:** Derived columns with arithmetic\n",
        "\n",
        "For each product, show `product_name`, `base_price`, `landed_cost`, and a column `price_minus_cost`."
      ],
      "id": "l5Sj7UTER4OV"
    },
    {
      "cell_type": "code",
      "metadata": {
        "id": "jAgPeItzR4OV"
      },
      "execution_count": null,
      "outputs": [],
      "source": [
        "SELECT product_name, base_price, landed_cost,\n",
        "       (base_price - landed_cost) AS price_minus_cost\n",
        "FROM product\n",
        "ORDER BY price_minus_cost DESC;"
      ],
      "id": "jAgPeItzR4OV"
    },
    {
      "cell_type": "markdown",
      "metadata": {
        "id": "PsU4B4lAR4OV"
      },
      "source": [
        "### ☕️ Quest 10 — Filter by Unit Size\n",
        "\n",
        "**Objective:** Text equality\n",
        "\n",
        "List all products sold in `16 oz` packaging."
      ],
      "id": "PsU4B4lAR4OV"
    },
    {
      "cell_type": "code",
      "metadata": {
        "id": "4D9SZq-SR4OW"
      },
      "execution_count": null,
      "outputs": [],
      "source": [
        "SELECT product_id, product_name, unit_size\n",
        "FROM product\n",
        "WHERE unit_size = '16 oz'\n",
        "ORDER BY product_id;"
      ],
      "id": "4D9SZq-SR4OW"
    },
    {
      "cell_type": "markdown",
      "source": [
        "### 🏰 Quest 11 — The Royal Menu  \n",
        "**Objective:** DISTINCT and ORDER BY  \n",
        "List all unique product categories in the realm, sorted alphabetically.\n"
      ],
      "metadata": {
        "id": "EFGVcKa3SLyl"
      },
      "id": "EFGVcKa3SLyl"
    },
    {
      "cell_type": "code",
      "source": [
        "SELECT DISTINCT item_taxonomy_1\n",
        "FROM product\n",
        "ORDER BY item_taxonomy_1;\n"
      ],
      "metadata": {
        "id": "ncfkF2HLSPaR"
      },
      "id": "ncfkF2HLSPaR",
      "execution_count": null,
      "outputs": []
    },
    {
      "cell_type": "markdown",
      "source": [
        "### 💰 Quest 12 — The Coin Counter  \n",
        "**Objective:** Derived columns with arithmetic  \n",
        "For each product, calculate its potential gross revenue (`base_price * 100` as a placeholder for quantity).\n"
      ],
      "metadata": {
        "id": "Zze1M8eJSTgk"
      },
      "id": "Zze1M8eJSTgk"
    },
    {
      "cell_type": "code",
      "source": [
        "SELECT product_name,\n",
        "       base_price,\n",
        "       (base_price * 100) AS gross_potential\n",
        "FROM product\n",
        "ORDER BY gross_potential DESC;\n",
        "\n"
      ],
      "metadata": {
        "id": "rLq4VHyESdYO"
      },
      "id": "rLq4VHyESdYO",
      "execution_count": null,
      "outputs": []
    },
    {
      "cell_type": "markdown",
      "source": [
        "### 🌨 Quest 13 — The Northern Vendors  \n",
        "**Objective:** Text matching with LIKE  \n",
        "Find all vendors whose region includes “North.”\n"
      ],
      "metadata": {
        "id": "xhe-Q60ESXh8"
      },
      "id": "xhe-Q60ESXh8"
    },
    {
      "cell_type": "code",
      "source": [
        "SELECT vendor_name, region\n",
        "FROM vendor\n",
        "WHERE region LIKE '%North%';\n",
        "\n"
      ],
      "metadata": {
        "id": "q5JfMxWJSlXw"
      },
      "id": "q5JfMxWJSlXw",
      "execution_count": null,
      "outputs": []
    },
    {
      "cell_type": "markdown",
      "source": [
        "### 📜 Quest 14 — The Royal Ledger Review  \n",
        "**Objective:** Filtering and sorting numeric columns  \n",
        "Show all sales orders with a total greater than 100 gold coins, sorted from highest to lowest total.\n"
      ],
      "metadata": {
        "id": "cNDMKO6LSamU"
      },
      "id": "cNDMKO6LSamU"
    },
    {
      "cell_type": "code",
      "source": [
        "SELECT realm, COUNT(*) AS total_customers\n",
        "FROM customer\n",
        "GROUP BY realm\n",
        "ORDER BY total_customers DESC;\n"
      ],
      "metadata": {
        "id": "dM23AM7wSty_"
      },
      "id": "dM23AM7wSty_",
      "execution_count": null,
      "outputs": []
    },
    {
      "cell_type": "markdown",
      "source": [
        "### 🤝 Quest 15 — The Loyal Houses  \n",
        "**Objective:** GROUP BY and COUNT  \n",
        "Count how many customers belong to each realm.\n"
      ],
      "metadata": {
        "id": "Yqdow-QgVgzV"
      },
      "id": "Yqdow-QgVgzV"
    },
    {
      "cell_type": "code",
      "source": [
        "SELECT realm, COUNT(*) AS total_customers\n",
        "FROM customer\n",
        "GROUP BY realm\n",
        "ORDER BY total_customers DESC;\n"
      ],
      "metadata": {
        "id": "mPV9M0rlVmsO"
      },
      "id": "mPV9M0rlVmsO",
      "execution_count": null,
      "outputs": []
    },
    {
      "cell_type": "markdown",
      "metadata": {
        "id": "HivwJRD4R4Oj"
      },
      "source": [
        "\n",
        "## 🏁 Epilogue — The Ledger Closes  \n",
        "\n",
        "Your journey through *The King’s Pantry* is complete.  \n",
        "\n",
        "But the story doesn’t end here — check out the next course 'Lord of the Kingsguard' where you'll learn:\n",
        "\n",
        "You’ll learn:\n",
        "\n",
        "- JOINs\n",
        "- GROUP BY\n",
        "- CASE\n",
        "- Subqueries\n",
        "- Aggregate logic\n",
        "\n",
        "You'll be challenged to:\n",
        "- Manually data load\n",
        "- Less code walkthroughs\n",
        "\n",
        "\n",
        "**Achievement Unlocked:** *Squire Analyst of the Realm* 🧙‍♀️  \n",
        "\n",
        "**The Mercury Brand System** | [mercurymusings.com](https://mercurymusings.com)\n"
      ],
      "id": "HivwJRD4R4Oj"
    }
  ],
  "metadata": {
    "kernelspec": {
      "display_name": "Python 3 (SQL content in cells)",
      "language": "python",
      "name": "python3"
    },
    "language_info": {
      "name": "python",
      "version": "3.10"
    },
    "colab": {
      "provenance": [],
      "include_colab_link": true
    }
  },
  "nbformat": 4,
  "nbformat_minor": 5
}